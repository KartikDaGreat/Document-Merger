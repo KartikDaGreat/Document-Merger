{
 "cells": [
  {
   "cell_type": "code",
   "execution_count": 2,
   "metadata": {},
   "outputs": [
    {
     "name": "stderr",
     "output_type": "stream",
     "text": [
      "c:\\Users\\Kartik Gounder\\Desktop\\Projects\\.venv\\Lib\\site-packages\\tqdm\\auto.py:21: TqdmWarning: IProgress not found. Please update jupyter and ipywidgets. See https://ipywidgets.readthedocs.io/en/stable/user_install.html\n",
      "  from .autonotebook import tqdm as notebook_tqdm\n"
     ]
    }
   ],
   "source": [
    "import os\n",
    "from docx2pdf import convert as convert_docx_to_pdf\n",
    "from pptx import Presentation\n",
    "from reportlab.lib.pagesizes import letter\n",
    "from reportlab.pdfgen import canvas\n",
    "from PyPDF2 import PdfMerger"
   ]
  },
  {
   "cell_type": "code",
   "execution_count": 3,
   "metadata": {},
   "outputs": [],
   "source": [
    "def convert_pptx_to_pdf(pptx_path, output_pdf):\n",
    "    prs = Presentation(pptx_path)\n",
    "    c = canvas.Canvas(output_pdf, pagesize=letter)\n",
    "    \n",
    "    for slide in prs.slides:\n",
    "        c.setFont(\"Helvetica\", 12)\n",
    "        slide_number = prs.slides.index(slide) + 1\n",
    "        c.drawString(30, 750, f\"Slide {slide_number}\")\n",
    "        c.showPage()\n",
    "    \n",
    "    c.save()\n",
    "    return output_pdf"
   ]
  },
  {
   "cell_type": "code",
   "execution_count": 4,
   "metadata": {},
   "outputs": [],
   "source": [
    "def convert_to_pdf(file_path, output_dir):\n",
    "    file_name, file_ext = os.path.splitext(file_path)\n",
    "    output_pdf = os.path.join(output_dir, file_name + '.pdf')\n",
    "    \n",
    "    if file_ext.lower() == '.pdf':\n",
    "        # Already a PDF, no conversion needed\n",
    "        return file_path\n",
    "    elif file_ext.lower() == '.docx':\n",
    "        # Convert DOCX to PDF\n",
    "        convert_docx_to_pdf(file_path, output_pdf)\n",
    "        return output_pdf\n",
    "    elif file_ext.lower() == '.pptx':\n",
    "        # Convert PPTX to PDF\n",
    "        convert_pptx_to_pdf(file_path, output_pdf)\n",
    "        return output_pdf\n",
    "    else:\n",
    "        print(f\"Unsupported file format: {file_ext}\")\n",
    "        return None"
   ]
  },
  {
   "cell_type": "code",
   "execution_count": 5,
   "metadata": {},
   "outputs": [],
   "source": [
    "def merge_pdfs(pdf_list, output_pdf):\n",
    "    merger = PdfMerger()\n",
    "    for pdf in pdf_list:\n",
    "        merger.append(pdf)\n",
    "    merger.write(output_pdf)\n",
    "    merger.close()"
   ]
  },
  {
   "cell_type": "code",
   "execution_count": 6,
   "metadata": {},
   "outputs": [],
   "source": [
    "def convert_and_merge(directory, output_pdf):\n",
    "    pdf_list = []\n",
    "    output_dir = os.path.join(directory, 'converted_pdfs')\n",
    "    os.makedirs(output_dir, exist_ok=True)\n",
    "\n",
    "    for root, dirs, files in os.walk(directory):\n",
    "        for file in files:\n",
    "            file_path = os.path.join(root, file)\n",
    "            pdf_file = convert_to_pdf(file_path, output_dir)\n",
    "            if pdf_file:\n",
    "                pdf_list.append(pdf_file)\n",
    "    \n",
    "    if pdf_list:\n",
    "        merge_pdfs(pdf_list, output_pdf)\n",
    "        print(f\"All files converted and merged into {output_pdf}\")\n",
    "    else:\n",
    "        print(\"No files to convert or merge.\")"
   ]
  },
  {
   "cell_type": "code",
   "execution_count": 10,
   "metadata": {},
   "outputs": [
    {
     "name": "stderr",
     "output_type": "stream",
     "text": [
      "100%|██████████| 1/1 [00:03<00:00,  3.44s/it]\n",
      "100%|██████████| 1/1 [00:03<00:00,  3.94s/it]\n"
     ]
    },
    {
     "ename": "COMError",
     "evalue": "(-2147024893, 'The system cannot find the path specified.', (None, None, None, 0, None))",
     "output_type": "error",
     "traceback": [
      "\u001b[1;31m---------------------------------------------------------------------------\u001b[0m",
      "\u001b[1;31mCOMError\u001b[0m                                  Traceback (most recent call last)",
      "Cell \u001b[1;32mIn[10], line 3\u001b[0m\n\u001b[0;32m      1\u001b[0m directory \u001b[38;5;241m=\u001b[39m \u001b[38;5;124m'\u001b[39m\u001b[38;5;124mC:/Users/Kartik Gounder/Desktop/SEM 7/FDS/New folder\u001b[39m\u001b[38;5;124m'\u001b[39m  \u001b[38;5;66;03m# Change this to your directory\u001b[39;00m\n\u001b[0;32m      2\u001b[0m output_pdf \u001b[38;5;241m=\u001b[39m \u001b[38;5;124m'\u001b[39m\u001b[38;5;124mmerged_output.pdf\u001b[39m\u001b[38;5;124m'\u001b[39m  \u001b[38;5;66;03m# Output merged PDF file\u001b[39;00m\n\u001b[1;32m----> 3\u001b[0m \u001b[43mconvert_and_merge\u001b[49m\u001b[43m(\u001b[49m\u001b[43mdirectory\u001b[49m\u001b[43m,\u001b[49m\u001b[43m \u001b[49m\u001b[43moutput_pdf\u001b[49m\u001b[43m)\u001b[49m\n",
      "Cell \u001b[1;32mIn[8], line 45\u001b[0m, in \u001b[0;36mconvert_and_merge\u001b[1;34m(directory, output_pdf)\u001b[0m\n\u001b[0;32m     43\u001b[0m \u001b[38;5;28;01mfor\u001b[39;00m file \u001b[38;5;129;01min\u001b[39;00m files:\n\u001b[0;32m     44\u001b[0m     file_path \u001b[38;5;241m=\u001b[39m os\u001b[38;5;241m.\u001b[39mpath\u001b[38;5;241m.\u001b[39mjoin(root, file)\n\u001b[1;32m---> 45\u001b[0m     pdf_file \u001b[38;5;241m=\u001b[39m \u001b[43mconvert_to_pdf\u001b[49m\u001b[43m(\u001b[49m\u001b[43mfile_path\u001b[49m\u001b[43m,\u001b[49m\u001b[43m \u001b[49m\u001b[43moutput_dir\u001b[49m\u001b[43m)\u001b[49m\n\u001b[0;32m     46\u001b[0m     \u001b[38;5;28;01mif\u001b[39;00m pdf_file:\n\u001b[0;32m     47\u001b[0m         pdf_list\u001b[38;5;241m.\u001b[39mappend(pdf_file)\n",
      "Cell \u001b[1;32mIn[8], line 24\u001b[0m, in \u001b[0;36mconvert_to_pdf\u001b[1;34m(file_path, output_dir)\u001b[0m\n\u001b[0;32m     22\u001b[0m     \u001b[38;5;28;01mreturn\u001b[39;00m output_pdf\n\u001b[0;32m     23\u001b[0m \u001b[38;5;28;01melif\u001b[39;00m file_ext\u001b[38;5;241m.\u001b[39mlower() \u001b[38;5;241m==\u001b[39m \u001b[38;5;124m'\u001b[39m\u001b[38;5;124m.pptx\u001b[39m\u001b[38;5;124m'\u001b[39m:\n\u001b[1;32m---> 24\u001b[0m     \u001b[43mconvert_pptx_to_pdf\u001b[49m\u001b[43m(\u001b[49m\u001b[43mfile_path\u001b[49m\u001b[43m,\u001b[49m\u001b[43m \u001b[49m\u001b[43moutput_pdf\u001b[49m\u001b[43m)\u001b[49m\n\u001b[0;32m     25\u001b[0m     \u001b[38;5;28;01mreturn\u001b[39;00m output_pdf\n\u001b[0;32m     26\u001b[0m \u001b[38;5;28;01melse\u001b[39;00m:\n",
      "Cell \u001b[1;32mIn[8], line 9\u001b[0m, in \u001b[0;36mconvert_pptx_to_pdf\u001b[1;34m(pptx_path, output_pdf)\u001b[0m\n\u001b[0;32m      7\u001b[0m powerpoint \u001b[38;5;241m=\u001b[39m comtypes\u001b[38;5;241m.\u001b[39mclient\u001b[38;5;241m.\u001b[39mCreateObject(\u001b[38;5;124m\"\u001b[39m\u001b[38;5;124mPowerPoint.Application\u001b[39m\u001b[38;5;124m\"\u001b[39m)\n\u001b[0;32m      8\u001b[0m powerpoint\u001b[38;5;241m.\u001b[39mVisible \u001b[38;5;241m=\u001b[39m \u001b[38;5;241m1\u001b[39m\n\u001b[1;32m----> 9\u001b[0m ppt \u001b[38;5;241m=\u001b[39m \u001b[43mpowerpoint\u001b[49m\u001b[38;5;241;43m.\u001b[39;49m\u001b[43mPresentations\u001b[49m\u001b[38;5;241;43m.\u001b[39;49m\u001b[43mOpen\u001b[49m\u001b[43m(\u001b[49m\u001b[43mpptx_path\u001b[49m\u001b[43m)\u001b[49m\n\u001b[0;32m     10\u001b[0m ppt\u001b[38;5;241m.\u001b[39mSaveAs(output_pdf, \u001b[38;5;241m32\u001b[39m)  \u001b[38;5;66;03m# 32 is the formatType for PDF\u001b[39;00m\n\u001b[0;32m     11\u001b[0m ppt\u001b[38;5;241m.\u001b[39mClose()\n",
      "\u001b[1;31mCOMError\u001b[0m: (-2147024893, 'The system cannot find the path specified.', (None, None, None, 0, None))"
     ]
    }
   ],
   "source": [
    "directory = 'C:/Users/Kartik Gounder/Desktop/SEM 7/FDS/New folder'  # Change this to your directory\n",
    "output_pdf = 'merged_output.pdf'  # Output merged PDF file\n",
    "convert_and_merge(directory, output_pdf)"
   ]
  },
  {
   "cell_type": "code",
   "execution_count": 8,
   "metadata": {},
   "outputs": [],
   "source": [
    "import os\n",
    "import comtypes.client\n",
    "from docx2pdf import convert as convert_docx_to_pdf\n",
    "from PyPDF2 import PdfMerger\n",
    "\n",
    "def convert_pptx_to_pdf(pptx_path, output_pdf):\n",
    "    powerpoint = comtypes.client.CreateObject(\"PowerPoint.Application\")\n",
    "    powerpoint.Visible = 1\n",
    "    ppt = powerpoint.Presentations.Open(pptx_path)\n",
    "    ppt.SaveAs(output_pdf, 32)  # 32 is the formatType for PDF\n",
    "    ppt.Close()\n",
    "    powerpoint.Quit()\n",
    "\n",
    "def convert_to_pdf(file_path, output_dir):\n",
    "    file_name, file_ext = os.path.splitext(file_path)\n",
    "    output_pdf = os.path.join(output_dir, file_name + '.pdf')\n",
    "    \n",
    "    if file_ext.lower() == '.pdf':\n",
    "        return file_path\n",
    "    elif file_ext.lower() == '.docx':\n",
    "        convert_docx_to_pdf(file_path, output_dir)\n",
    "        return output_pdf\n",
    "    elif file_ext.lower() == '.pptx':\n",
    "        convert_pptx_to_pdf(file_path, output_pdf)\n",
    "        return output_pdf\n",
    "    else:\n",
    "        print(f\"Unsupported file format: {file_ext}\")\n",
    "        return None\n",
    "\n",
    "def merge_pdfs(pdf_list, output_pdf):\n",
    "    merger = PdfMerger()\n",
    "    for pdf in pdf_list:\n",
    "        merger.append(pdf)\n",
    "    merger.write(output_pdf)\n",
    "    merger.close()\n",
    "\n",
    "def convert_and_merge(directory, output_pdf):\n",
    "    pdf_list = []\n",
    "    output_dir = os.path.join(directory, 'converted_pdfs')\n",
    "    os.makedirs(output_dir, exist_ok=True)\n",
    "\n",
    "    for root, dirs, files in os.walk(directory):\n",
    "        for file in files:\n",
    "            file_path = os.path.join(root, file)\n",
    "            pdf_file = convert_to_pdf(file_path, output_dir)\n",
    "            if pdf_file:\n",
    "                pdf_list.append(pdf_file)\n",
    "    \n",
    "    if pdf_list:\n",
    "        merge_pdfs(pdf_list, output_pdf)\n",
    "        print(f\"All files converted and merged into {output_pdf}\")\n",
    "    else:\n",
    "        print(\"No files to convert or merge.\")"
   ]
  },
  {
   "cell_type": "code",
   "execution_count": 9,
   "metadata": {},
   "outputs": [
    {
     "name": "stdout",
     "output_type": "stream",
     "text": [
      "No files to convert or merge.\n"
     ]
    }
   ],
   "source": [
    "directory = 'C:/Users/Kartik Gounder/Desktop/SEM 7/FDS/New folder'  # Change this to your directory\n",
    "output_pdf = 'merged_output.pdf'  # Output merged PDF file\n",
    "convert_and_merge(directory, output_pdf)"
   ]
  },
  {
   "cell_type": "code",
   "execution_count": null,
   "metadata": {},
   "outputs": [],
   "source": []
  }
 ],
 "metadata": {
  "kernelspec": {
   "display_name": ".venv",
   "language": "python",
   "name": "python3"
  },
  "language_info": {
   "codemirror_mode": {
    "name": "ipython",
    "version": 3
   },
   "file_extension": ".py",
   "mimetype": "text/x-python",
   "name": "python",
   "nbconvert_exporter": "python",
   "pygments_lexer": "ipython3",
   "version": "3.11.0"
  }
 },
 "nbformat": 4,
 "nbformat_minor": 2
}
