{
 "cells": [
  {
   "cell_type": "code",
   "execution_count": 1,
   "metadata": {},
   "outputs": [
    {
     "name": "stderr",
     "output_type": "stream",
     "text": [
      "c:\\Users\\Kartik Gounder\\Desktop\\Projects\\.venv\\Lib\\site-packages\\tqdm\\auto.py:21: TqdmWarning: IProgress not found. Please update jupyter and ipywidgets. See https://ipywidgets.readthedocs.io/en/stable/user_install.html\n",
      "  from .autonotebook import tqdm as notebook_tqdm\n"
     ]
    },
    {
     "name": "stdout",
     "output_type": "stream",
     "text": [
      "All files converted and merged into D:/Desktop_new/MASTERS/Consolidated Marksheet\\merged_output.pdf\n"
     ]
    }
   ],
   "source": [
    "import os\n",
    "import comtypes.client\n",
    "from docx2pdf import convert as convert_docx_to_pdf\n",
    "from PyPDF2 import PdfMerger\n",
    "\n",
    "def convert_pptx_to_pdf(pptx_path, output_pdf):\n",
    "    pptx_path = os.path.abspath(pptx_path)\n",
    "    output_pdf = os.path.abspath(output_pdf)\n",
    "    \n",
    "    powerpoint = comtypes.client.CreateObject(\"PowerPoint.Application\")\n",
    "    powerpoint.Visible = 1\n",
    "    ppt = powerpoint.Presentations.Open(pptx_path)\n",
    "    ppt.SaveAs(output_pdf, 32)  # 32 is the formatType for PDF\n",
    "    ppt.Close()\n",
    "    powerpoint.Quit()\n",
    "\n",
    "def convert_to_pdf(file_path, output_dir):\n",
    "    file_name, file_ext = os.path.splitext(file_path)\n",
    "    output_pdf = os.path.join(output_dir, file_name + '.pdf')\n",
    "    \n",
    "    if file_ext.lower() == '.pdf':\n",
    "        return file_path\n",
    "    elif file_ext.lower() == '.docx':\n",
    "        convert_docx_to_pdf(file_path, output_dir)\n",
    "        return output_pdf\n",
    "    elif file_ext.lower() == '.pptx':\n",
    "        convert_pptx_to_pdf(file_path, output_pdf)\n",
    "        return output_pdf\n",
    "    else:\n",
    "        print(f\"Unsupported file format: {file_ext}\")\n",
    "        return None\n",
    "\n",
    "def merge_pdfs(pdf_list, output_pdf):\n",
    "    merger = PdfMerger()\n",
    "    for pdf in pdf_list:\n",
    "        merger.append(pdf)\n",
    "    merger.write(output_pdf)\n",
    "    merger.close()\n",
    "\n",
    "def convert_and_merge(directory, output_pdf):\n",
    "    pdf_list = []\n",
    "    output_dir = os.path.join(directory, 'converted_pdfs')\n",
    "    # os.makedirs(output_dir, exist_ok=True)\n",
    "\n",
    "    for root, dirs, files in os.walk(directory):\n",
    "        for file in files:\n",
    "            file_path = os.path.join(root, file)\n",
    "            pdf_file = convert_to_pdf(file_path, output_dir)\n",
    "            if pdf_file:\n",
    "                pdf_list.append(pdf_file)\n",
    "    \n",
    "    if pdf_list:\n",
    "        merge_pdfs(pdf_list, output_pdf)\n",
    "        print(f\"All files converted and merged into {output_pdf}\")\n",
    "    else:\n",
    "        print(\"No files to convert or merge.\")\n",
    "\n",
    "# Usage\n",
    "directory = 'D:/Desktop_new/MASTERS/Consolidated Marksheet'  # Change this to your directory\n",
    "output_pdf = os.path.join(directory,'merged_output.pdf')  # Output merged PDF file\n",
    "convert_and_merge(directory, output_pdf)\n"
   ]
  },
  {
   "cell_type": "code",
   "execution_count": 4,
   "metadata": {},
   "outputs": [
    {
     "name": "stdout",
     "output_type": "stream",
     "text": [
      "Added C:/Users/Kartik Gounder/Desktop/SEM 7/FDS/New folder\\10-Data Science Analytics Introduction-02-08-2024.pdf\n",
      "Added C:/Users/Kartik Gounder/Desktop/SEM 7/FDS/New folder\\11-Data Science Analytics Introduction-02-08-2024.pdf\n",
      "Added C:/Users/Kartik Gounder/Desktop/SEM 7/FDS/New folder\\12-Data Analytics on Text-Major Text mining Areas-21-08-2024.pdf\n",
      "Added C:/Users/Kartik Gounder/Desktop/SEM 7/FDS/New folder\\13-Data Analytics on Text-Major Text mining Areas-21-08-2024.pdf\n",
      "Added C:/Users/Kartik Gounder/Desktop/SEM 7/FDS/New folder\\14-Data Analytics on Text-Major Text mining Areas-21-08-2024.pdf\n",
      "Added C:/Users/Kartik Gounder/Desktop/SEM 7/FDS/New folder\\2-Introduction to Data science-15-07-2024.pdf\n",
      "Added C:/Users/Kartik Gounder/Desktop/SEM 7/FDS/New folder\\3-Introduction to Data science-15-07-2024.pdf\n",
      "Added C:/Users/Kartik Gounder/Desktop/SEM 7/FDS/New folder\\4-SQL for Statistics, Data Munging, joining and Aggregation - Mod 2.pdf\n",
      "Added C:/Users/Kartik Gounder/Desktop/SEM 7/FDS/New folder\\5-SQL for Statistics, Data Munging, joining and Aggregation-24-07-2024.pdf\n",
      "Added C:/Users/Kartik Gounder/Desktop/SEM 7/FDS/New folder\\6-SQL for Statistics, Data Munging, joining and Aggregation-24-07-2024.pdf\n",
      "Added C:/Users/Kartik Gounder/Desktop/SEM 7/FDS/New folder\\7-SQL for Statistics, Data Munging, joining and Aggregation-24-07-2024.pdf\n",
      "Added C:/Users/Kartik Gounder/Desktop/SEM 7/FDS/New folder\\8-Data Science Analytics Introduction-02-08-2024.pdf\n",
      "Added C:/Users/Kartik Gounder/Desktop/SEM 7/FDS/New folder\\9-Data Science Analytics Introduction-02-08-2024.pdf\n",
      "All PDFs merged into C:/Users/Kartik Gounder/Desktop/SEM 7/FDS/merged_output.pdf\n"
     ]
    }
   ],
   "source": [
    "import os\n",
    "from PyPDF2 import PdfMerger\n",
    "\n",
    "def merge_pdfs(directory, output_pdf):\n",
    "    pdf_merger = PdfMerger()\n",
    "    for item in os.listdir(directory):\n",
    "        if item.endswith('.pdf'):\n",
    "            pdf_path = os.path.join(directory, item)\n",
    "            pdf_merger.append(pdf_path)\n",
    "            print(f\"Added {pdf_path}\")\n",
    "    \n",
    "    with open(output_pdf, 'wb') as f_out:\n",
    "        pdf_merger.write(f_out)\n",
    "    pdf_merger.close()\n",
    "\n",
    "    print(f\"All PDFs merged into {output_pdf}\")\n",
    "\n",
    "# Usage\n",
    "directory = 'C:/Users/Kartik Gounder/Desktop/SEM 7/FDS/New folder'  # Change this to your directory\n",
    "output_pdf = 'C:/Users/Kartik Gounder/Desktop/SEM 7/FDS/merged_output.pdf'  # Output merged PDF file name\n",
    "merge_pdfs(directory, output_pdf)\n"
   ]
  },
  {
   "cell_type": "code",
   "execution_count": null,
   "metadata": {},
   "outputs": [],
   "source": []
  }
 ],
 "metadata": {
  "kernelspec": {
   "display_name": ".venv",
   "language": "python",
   "name": "python3"
  },
  "language_info": {
   "codemirror_mode": {
    "name": "ipython",
    "version": 3
   },
   "file_extension": ".py",
   "mimetype": "text/x-python",
   "name": "python",
   "nbconvert_exporter": "python",
   "pygments_lexer": "ipython3",
   "version": "3.11.0"
  }
 },
 "nbformat": 4,
 "nbformat_minor": 2
}
